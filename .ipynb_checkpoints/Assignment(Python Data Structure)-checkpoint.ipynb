{
 "cells": [
  {
   "cell_type": "markdown",
   "id": "dac49db7-0293-41f3-b8f1-b66e23cf134c",
   "metadata": {},
   "source": [
    "##1.Write a code to reverse a string."
   ]
  },
  {
   "cell_type": "code",
   "execution_count": 1,
   "id": "0f57f54d-f05e-46ff-bc07-ff27476b3d96",
   "metadata": {},
   "outputs": [
    {
     "name": "stdout",
     "output_type": "stream",
     "text": [
      "Original String: Hello, world!\n",
      "Reversed String: !dlrow ,olleH\n"
     ]
    }
   ],
   "source": [
    "input_string = \"Hello, world!\"\n",
    "reversed_string = input_string[::-1]\n",
    "print(\"Original String:\", input_string)\n",
    "print(\"Reversed String:\", reversed_string)"
   ]
  },
  {
   "cell_type": "markdown",
   "id": "e3e0074e-13c2-47c6-abec-22f1b600bcfa",
   "metadata": {},
   "source": [
    "##2.Write a code to count the number of vowels in a string."
   ]
  },
  {
   "cell_type": "code",
   "execution_count": 2,
   "id": "b42cb4cf-ded7-468f-abc1-5678e86de763",
   "metadata": {},
   "outputs": [
    {
     "name": "stdout",
     "output_type": "stream",
     "text": [
      "Number of vowels: 3\n"
     ]
    }
   ],
   "source": [
    "input_string = \"Hello, world!\"\n",
    "vowels = \"aeiouAEIOU\"\n",
    "vowel_count = 0\n",
    "\n",
    "for char in input_string:\n",
    "    if char in vowels:\n",
    "        vowel_count += 1\n",
    "\n",
    "print(\"Number of vowels:\", vowel_count)\n"
   ]
  },
  {
   "cell_type": "markdown",
   "id": "f967273c-a2bd-466d-8ca5-a258a7e38044",
   "metadata": {},
   "source": [
    "##3.Write a code to check if a given string is a palindrome or not."
   ]
  },
  {
   "cell_type": "code",
   "execution_count": 5,
   "id": "3b8f4e97-0bb6-41ad-9980-73d79d36b0cc",
   "metadata": {},
   "outputs": [
    {
     "name": "stdout",
     "output_type": "stream",
     "text": [
      "The string is a palindrome.\n"
     ]
    }
   ],
   "source": [
    "input_string = \"A man a plan a canal Panama\"\n",
    "# Remove spaces and convert to lowercase for uniformity\n",
    "normalized_string = input_string.replace(\" \", \"\").lower()\n",
    "\n",
    "# Check if the string is the same forwards and backwards\n",
    "is_palindrome = normalized_string == normalized_string[::-1]\n",
    "\n",
    "if is_palindrome:\n",
    "    print(\"The string is a palindrome.\")\n",
    "else:\n",
    "    print(\"The string is not a palindrome.\")\n"
   ]
  },
  {
   "cell_type": "markdown",
   "id": "0e2802f0-97b0-4ef1-8d20-826d4097601b",
   "metadata": {},
   "source": [
    "##4.Write a code to check if two given strings are anagrams of each other"
   ]
  },
  {
   "cell_type": "code",
   "execution_count": 6,
   "id": "8b0a6676-1758-4f2a-a870-03679765bf6b",
   "metadata": {},
   "outputs": [
    {
     "name": "stdout",
     "output_type": "stream",
     "text": [
      "'listen' and 'silent' are anagrams.\n"
     ]
    }
   ],
   "source": [
    "# Input strings\n",
    "string1 = \"listen\"\n",
    "string2 = \"silent\"\n",
    "\n",
    "# Function to check if two strings are anagrams\n",
    "def are_anagrams(s1, s2):\n",
    "    # Remove spaces and convert to lowercase\n",
    "    s1 = s1.replace(\" \", \"\").lower()\n",
    "    s2 = s2.replace(\" \", \"\").lower()\n",
    "\n",
    "    # Check if both strings have the same characters with the same frequencies\n",
    "    return sorted(s1) == sorted(s2)\n",
    "\n",
    "# Check if the strings are anagrams\n",
    "if are_anagrams(string1, string2):\n",
    "    print(f\"'{string1}' and '{string2}' are anagrams.\")\n",
    "else:\n",
    "    print(f\"'{string1}' and '{string2}' are not anagrams.\")\n"
   ]
  },
  {
   "cell_type": "markdown",
   "id": "97543db2-a50b-483b-a268-507d4d54d65f",
   "metadata": {},
   "source": [
    "##5.Write a code to find all occurrences of a given substring within another string."
   ]
  },
  {
   "cell_type": "code",
   "execution_count": 1,
   "id": "b0df3c43-5d87-4ab0-850c-b25f5fb52961",
   "metadata": {},
   "outputs": [
    {
     "name": "stdout",
     "output_type": "stream",
     "text": [
      "Substring 'wood' found at index 9\n",
      "Substring 'wood' found at index 22\n",
      "Substring 'wood' found at index 43\n",
      "Substring 'wood' found at index 65\n"
     ]
    }
   ],
   "source": [
    "# Main string and substring\n",
    "main_string = \"How much wood would a woodchuck chuck if a woodchuck could chuck wood?\"\n",
    "substring = \"wood\"\n",
    "\n",
    "# Find all occurrences of the substring\n",
    "start = 0\n",
    "while True:\n",
    "    start = main_string.find(substring, start)\n",
    "    if start == -1:  # No more occurrences found\n",
    "        break\n",
    "    print(f\"Substring '{substring}' found at index {start}\")\n",
    "    start += 1  # Move to the next possible start\n"
   ]
  },
  {
   "cell_type": "markdown",
   "id": "5e31fad8-ad4c-48fb-b407-bc22250d1611",
   "metadata": {},
   "source": [
    "##6.Write a code to perform basic string compression using the counts of repeated characters."
   ]
  },
  {
   "cell_type": "code",
   "execution_count": 3,
   "id": "7a4c618f-42c7-4334-86eb-c02839d191d4",
   "metadata": {},
   "outputs": [
    {
     "name": "stdout",
     "output_type": "stream",
     "text": [
      "Original String: aabcccccaaa\n",
      "Compressed String: a2b1c5a3\n"
     ]
    }
   ],
   "source": [
    "input_string = \"aabcccccaaa\"\n",
    "compressed = \"\"  # Starts empty to build the compressed string\n",
    "count = 1  # Start with the first character counted\n",
    "\n",
    "# Loop through the string from the second character to the end\n",
    "for i in range(1, len(input_string)):\n",
    "    if input_string[i] == input_string[i - 1]:\n",
    "        count += 1  # Same character as before, increase count\n",
    "    else:\n",
    "        compressed += input_string[i - 1] + str(count)  # Different character, add previous character and count\n",
    "        count = 1  # Reset count for the new character\n",
    "\n",
    "# After the loop, add the last character and its count\n",
    "compressed += input_string[-1] + str(count)\n",
    "\n",
    "# Check if compressed string is shorter than the original\n",
    "if len(compressed) >= len(input_string):\n",
    "    compressed = input_string  # If not shorter, use the original string\n",
    "\n",
    "print(\"Original String:\", input_string)\n",
    "print(\"Compressed String:\", compressed)"
   ]
  },
  {
   "cell_type": "markdown",
   "id": "0e145721-a029-4d36-bb0d-970ecf95cf71",
   "metadata": {},
   "source": [
    "##7.Write a code to determine if a string hasall unique characters."
   ]
  },
  {
   "cell_type": "code",
   "execution_count": 1,
   "id": "067cc5b8-37b6-47d8-ab3e-60399c442615",
   "metadata": {},
   "outputs": [
    {
     "name": "stdout",
     "output_type": "stream",
     "text": [
      "The string has all unique characters.\n"
     ]
    }
   ],
   "source": [
    "input_string = \"abcdef\"\n",
    "seen_characters = set()  # Use a set to store characters we have already seen\n",
    "\n",
    "is_unique = True  # Assume the string has all unique characters initially\n",
    "\n",
    "for char in input_string:\n",
    "    if char in seen_characters:\n",
    "        is_unique = False  # Found a duplicate character\n",
    "        break\n",
    "    seen_characters.add(char)  # Add the character to the set\n",
    "\n",
    "if is_unique:\n",
    "    print(\"The string has all unique characters.\")\n",
    "else:\n",
    "    print(\"The string does not have all unique characters.\")\n"
   ]
  },
  {
   "cell_type": "markdown",
   "id": "d204f7eb-6efa-4710-a698-dbbffa55868b",
   "metadata": {},
   "source": [
    "##8.Write a code to convert a given string to uppercase or lowercase."
   ]
  },
  {
   "cell_type": "code",
   "execution_count": 2,
   "id": "bb04d761-2c65-4ac4-9673-ff8936a51dfc",
   "metadata": {},
   "outputs": [
    {
     "name": "stdout",
     "output_type": "stream",
     "text": [
      "Original String: Hello, World!\n",
      "Uppercase String: HELLO, WORLD!\n",
      "Lowercase String: hello, world!\n"
     ]
    }
   ],
   "source": [
    "input_string = \"Hello, World!\"\n",
    "\n",
    "# Convert the string to uppercase\n",
    "uppercase_string = input_string.upper()\n",
    "# Convert the string to lowercase\n",
    "lowercase_string = input_string.lower()\n",
    "\n",
    "print(\"Original String:\", input_string)\n",
    "print(\"Uppercase String:\", uppercase_string)\n",
    "print(\"Lowercase String:\", lowercase_string)\n"
   ]
  },
  {
   "cell_type": "markdown",
   "id": "f1c21d69-019f-4b04-9789-5e367e6f5545",
   "metadata": {},
   "source": [
    "##9.Write a code to count the number of words in a string."
   ]
  },
  {
   "cell_type": "code",
   "execution_count": 3,
   "id": "a18eacc7-7313-46f0-b543-19d3c2cede1f",
   "metadata": {},
   "outputs": [
    {
     "name": "stdout",
     "output_type": "stream",
     "text": [
      "Number of words: 6\n"
     ]
    }
   ],
   "source": [
    "input_string = \"Hello, how are you doing today?\"\n",
    "\n",
    "# Split the string into words using split() method\n",
    "words = input_string.split()\n",
    "\n",
    "# Count the number of words\n",
    "word_count = len(words)\n",
    "\n",
    "print(\"Number of words:\", word_count)\n"
   ]
  },
  {
   "cell_type": "markdown",
   "id": "60aeb3ae-62d2-4478-82b5-37943f190887",
   "metadata": {},
   "source": [
    "##10.Write a code to concatenate two strings without using the+ operator."
   ]
  },
  {
   "cell_type": "code",
   "execution_count": 4,
   "id": "d5a68a5e-f492-403a-83b7-335cf32d4a70",
   "metadata": {},
   "outputs": [
    {
     "name": "stdout",
     "output_type": "stream",
     "text": [
      "Concatenated String: HelloWorld\n"
     ]
    }
   ],
   "source": [
    "string1 = \"Hello\"\n",
    "string2 = \"World\"\n",
    "\n",
    "# Concatenate using f-strings\n",
    "concatenated_string = f\"{string1}{string2}\"\n",
    "\n",
    "print(\"Concatenated String:\", concatenated_string)\n"
   ]
  },
  {
   "cell_type": "markdown",
   "id": "be1dff23-d7e4-4a73-8a92-62319fc2ef3b",
   "metadata": {},
   "source": [
    "##11.Write a code to remove all occurrences of a specific element from a list"
   ]
  },
  {
   "cell_type": "code",
   "execution_count": 2,
   "id": "86c3f061-75c9-47ab-990c-ad32fb01b9cd",
   "metadata": {},
   "outputs": [
    {
     "name": "stdout",
     "output_type": "stream",
     "text": [
      "Original List: [1, 2, 3, 4, 2, 2, 5, 2, 6]\n",
      "Filtered List: [1, 3, 4, 5, 6]\n"
     ]
    }
   ],
   "source": [
    "# Define the list and the element to be removed\n",
    "input_list = [1, 2, 3, 4, 2, 2, 5, 2, 6]\n",
    "element_to_remove = 2\n",
    "\n",
    "# Use list comprehension to filter out the element\n",
    "filtered_list = [item for item in input_list if item != element_to_remove]\n",
    "\n",
    "print(\"Original List:\", input_list)\n",
    "print(\"Filtered List:\", filtered_list)\n"
   ]
  },
  {
   "cell_type": "markdown",
   "id": "5a7ed710-4339-430b-bc68-168de737cb3d",
   "metadata": {},
   "source": [
    "##12.Implement a code to find the second largest number in a given list of integers"
   ]
  },
  {
   "cell_type": "code",
   "execution_count": 5,
   "id": "5ea2204c-ad36-49d2-a86d-088ed7771edc",
   "metadata": {},
   "outputs": [
    {
     "name": "stdout",
     "output_type": "stream",
     "text": [
      "Second Largest Number: 9\n"
     ]
    }
   ],
   "source": [
    "# Define the list of integers\n",
    "input_list = [7, 5, 6, 3, 9, 2, 8, 10]\n",
    "\n",
    "# Sort the list in descending order\n",
    "sorted_list = sorted(input_list, reverse=True)\n",
    "\n",
    "# Check if there are at least two unique numbers\n",
    "if len(sorted_list) < 2:\n",
    "    print(\"Not enough unique elements to determine a second largest number.\")\n",
    "else:\n",
    "    # Find the second largest number by skipping the largest\n",
    "    second_largest = sorted_list[1]  # The second element in the sorted list\n",
    "\n",
    "    print(\"Second Largest Number:\", second_largest)\n"
   ]
  },
  {
   "cell_type": "markdown",
   "id": "b5269688-9a49-4006-b325-fda9db0999c5",
   "metadata": {},
   "source": [
    "##13.Create a code to count the occurrences of each element in a list and return a dictionary with elements as keys and their counts as values."
   ]
  },
  {
   "cell_type": "code",
   "execution_count": 6,
   "id": "2ee7d9d5-f7d7-4d54-9f53-36dd06c5b8ff",
   "metadata": {},
   "outputs": [
    {
     "name": "stdout",
     "output_type": "stream",
     "text": [
      "Element Counts: {1: 1, 2: 3, 3: 1, 4: 1, 5: 2, 6: 3}\n"
     ]
    }
   ],
   "source": [
    "# Define the list\n",
    "input_list = [1, 2, 3, 4, 2, 5, 2, 6, 5, 6, 6]\n",
    "\n",
    "# Create a dictionary to hold counts\n",
    "element_counts = {}\n",
    "\n",
    "# Loop through each element in the list\n",
    "for element in input_list:\n",
    "    if element in element_counts:\n",
    "        element_counts[element] += 1  # Increment existing count\n",
    "    else:\n",
    "        element_counts[element] = 1   # Initialize count\n",
    "\n",
    "print(\"Element Counts:\", element_counts)\n"
   ]
  },
  {
   "cell_type": "markdown",
   "id": "573c24e1-1240-47e2-a589-6f8f0a8cee98",
   "metadata": {},
   "source": [
    "##14.Write a code to reverse a list in-place without using any built-in reverse functions"
   ]
  },
  {
   "cell_type": "code",
   "execution_count": 1,
   "id": "94be9fe5-708c-4ee6-9cd1-fda889f1a50a",
   "metadata": {},
   "outputs": [
    {
     "name": "stdout",
     "output_type": "stream",
     "text": [
      "Reversed List: [5, 4, 3, 2, 1]\n"
     ]
    }
   ],
   "source": [
    "# Define the list to be reversed\n",
    "input_list = [1, 2, 3, 4, 5]\n",
    "\n",
    "# Reverse the list in-place\n",
    "i, j = 0, len(input_list) - 1  # Initialize pointers for the start and end of the list\n",
    "\n",
    "while i < j:\n",
    "    # Swap the elements at the start and end\n",
    "    input_list[i], input_list[j] = input_list[j], input_list[i]\n",
    "    i += 1  # Move the start pointer forward\n",
    "    j -= 1  # Move the end pointer backward\n",
    "\n",
    "print(\"Reversed List:\", input_list)\n"
   ]
  },
  {
   "cell_type": "markdown",
   "id": "53434725-3366-415c-82c7-3d0bde6b8a50",
   "metadata": {},
   "source": [
    "##15.Implement a code to find and remove elements. duplicates from a list while preserving the original order of elements."
   ]
  },
  {
   "cell_type": "code",
   "execution_count": 2,
   "id": "b99853f7-2e70-4be4-8e09-76dfffc4606a",
   "metadata": {},
   "outputs": [
    {
     "name": "stdout",
     "output_type": "stream",
     "text": [
      "Original List: [1, 2, 5, 2, 3, 6, 5, 7, 8, 6]\n",
      "List without duplicates: [1, 2, 5, 3, 6, 7, 8]\n"
     ]
    }
   ],
   "source": [
    "# Define the list with duplicates\n",
    "input_list = [1, 2, 5, 2, 3, 6, 5, 7, 8, 6]\n",
    "\n",
    "# Create a set to track seen elements and a list to store the results\n",
    "seen = set()\n",
    "output_list = []\n",
    "\n",
    "# Iterate over each element in the input list\n",
    "for item in input_list:\n",
    "    if item not in seen:\n",
    "        seen.add(item)  # Mark this item as seen\n",
    "        output_list.append(item)  # Add to the output list since it's not a duplicate\n",
    "\n",
    "print(\"Original List:\", input_list)\n",
    "print(\"List without duplicates:\", output_list)\n"
   ]
  },
  {
   "cell_type": "markdown",
   "id": "fa19ced2-586e-4434-a58f-3ed21c586d0f",
   "metadata": {},
   "source": [
    "##16.Create a code to check if a given list is sorted (either in ascending or descending order) or not."
   ]
  },
  {
   "cell_type": "code",
   "execution_count": 1,
   "id": "4c72eb41-f43e-4873-b473-550d1dcd19ae",
   "metadata": {},
   "outputs": [
    {
     "name": "stdout",
     "output_type": "stream",
     "text": [
      "The list is sorted.\n"
     ]
    }
   ],
   "source": [
    "# Define the list\n",
    "input_list = [1, 2, 3, 4, 5]\n",
    "\n",
    "# Initialize flags for ascending and descending order checks\n",
    "is_ascending = True\n",
    "is_descending = True\n",
    "\n",
    "# Iterate through the list to check order\n",
    "for i in range(len(input_list) - 1):\n",
    "    if input_list[i] > input_list[i + 1]:\n",
    "        is_ascending = False\n",
    "    if input_list[i] < input_list[i + 1]:\n",
    "        is_descending = False\n",
    "\n",
    "# Determine if the list is sorted\n",
    "if is_ascending or is_descending:\n",
    "    print(\"The list is sorted.\")\n",
    "else:\n",
    "    print(\"The list is not sorted.\")\n"
   ]
  },
  {
   "cell_type": "markdown",
   "id": "c013e228-618d-488d-9270-82727fd09411",
   "metadata": {},
   "source": [
    "##17.Write a code to merge two sorted lists into a single sorted list"
   ]
  },
  {
   "cell_type": "code",
   "execution_count": 3,
   "id": "e4064b29-ed0e-49f2-a4d9-2ccbd4fb8669",
   "metadata": {},
   "outputs": [
    {
     "name": "stdout",
     "output_type": "stream",
     "text": [
      "Merged List: [1, 2, 3, 4, 5, 6, 7, 8]\n"
     ]
    }
   ],
   "source": [
    "# Define two sorted lists\n",
    "list1 = [1, 3, 5, 7]\n",
    "list2 = [2, 4, 6, 8]\n",
    "\n",
    "# Initialize pointers for each list\n",
    "i, j = 0, 0\n",
    "# Initialize the merged list\n",
    "merged_list = []\n",
    "\n",
    "# Loop through both lists and merge them in sorted order\n",
    "while i < len(list1) and j < len(list2):\n",
    "    if list1[i] < list2[j]:\n",
    "        merged_list.append(list1[i])\n",
    "        i += 1\n",
    "    else:\n",
    "        merged_list.append(list2[j])\n",
    "        j += 1\n",
    "\n",
    "# If there are remaining elements in list1, add them to merged_list\n",
    "while i < len(list1):\n",
    "    merged_list.append(list1[i])\n",
    "    i += 1\n",
    "\n",
    "# If there are remaining elements in list2, add them to merged_list\n",
    "while j < len(list2):\n",
    "    merged_list.append(list2[j])\n",
    "    j += 1\n",
    "\n",
    "print(\"Merged List:\", merged_list)\n"
   ]
  },
  {
   "cell_type": "markdown",
   "id": "f76d88ce-7d0e-4a9e-b503-efa231bf2689",
   "metadata": {},
   "source": [
    "##18. Implement a code to find the intersection of two given lists"
   ]
  },
  {
   "cell_type": "code",
   "execution_count": 4,
   "id": "02975300-aec0-4b84-b008-e428a4ab9f2e",
   "metadata": {},
   "outputs": [
    {
     "name": "stdout",
     "output_type": "stream",
     "text": [
      "Intersection of the two lists: [4, 5]\n"
     ]
    }
   ],
   "source": [
    "# Define two lists\n",
    "list1 = [1, 2, 3, 4, 5]\n",
    "list2 = [4, 5, 6, 7, 8]\n",
    "\n",
    "# Convert lists to sets to remove duplicates and perform intersection\n",
    "set1 = set(list1)\n",
    "set2 = set(list2)\n",
    "\n",
    "# Use set intersection method\n",
    "intersection = set1.intersection(set2)\n",
    "\n",
    "# Convert the intersection set back to a list\n",
    "intersection_list = list(intersection)\n",
    "\n",
    "print(\"Intersection of the two lists:\", intersection_list)\n"
   ]
  },
  {
   "cell_type": "markdown",
   "id": "9e3534cc-035c-4998-b009-ad50e39884ec",
   "metadata": {},
   "source": [
    "##19.Create a code to find the union of two lists without duplicates."
   ]
  },
  {
   "cell_type": "code",
   "execution_count": 5,
   "id": "09072ce0-8453-475d-9d5a-c26d57d2cc74",
   "metadata": {},
   "outputs": [
    {
     "name": "stdout",
     "output_type": "stream",
     "text": [
      "Union of the two lists without duplicates: [1, 2, 3, 4, 5, 6, 7, 8]\n"
     ]
    }
   ],
   "source": [
    "# Define two lists\n",
    "list1 = [1, 2, 3, 4, 5]\n",
    "list2 = [4, 5, 6, 7, 8]\n",
    "\n",
    "# Convert lists to sets to remove duplicates\n",
    "set1 = set(list1)\n",
    "set2 = set(list2)\n",
    "\n",
    "# Use set union method to combine sets without duplicates\n",
    "union_set = set1.union(set2)\n",
    "\n",
    "# Convert the union set back to a list\n",
    "union_list = list(union_set)\n",
    "\n",
    "print(\"Union of the two lists without duplicates:\", union_list)\n"
   ]
  },
  {
   "cell_type": "markdown",
   "id": "5418ebaa-fb4e-437f-a05e-c23a962e78e5",
   "metadata": {},
   "source": [
    "##20.Write a code to shuffle a given list randomly without using any built-in shuffle functions."
   ]
  },
  {
   "cell_type": "code",
   "execution_count": 7,
   "id": "9c0e0293-d097-4b30-991a-170e062c2e49",
   "metadata": {},
   "outputs": [
    {
     "name": "stdout",
     "output_type": "stream",
     "text": [
      "Shuffled List: [4, 10, 8, 2, 9, 5, 3, 7, 6, 1]\n"
     ]
    }
   ],
   "source": [
    "import random\n",
    "\n",
    "# Define the list to shuffle\n",
    "my_list = [1, 2, 3, 4, 5, 6, 7, 8, 9, 10]\n",
    "\n",
    "# Perform the Fisher-Yates shuffle algorithm\n",
    "for i in range(len(my_list) - 1, 0, -1):\n",
    "    j = random.randint(0, i)  # Pick a random index from 0 to i\n",
    "    my_list[i], my_list[j] = my_list[j], my_list[i]  # Swap the element at i with the element at j\n",
    "\n",
    "print(\"Shuffled List:\", my_list)\n"
   ]
  },
  {
   "cell_type": "markdown",
   "id": "db9e7320-c776-4f39-aca0-cdd3d3a818f0",
   "metadata": {},
   "source": [
    "##21.Write a code that takes two tuples as input and returns a new tuple containing elements that are common to both input tuples."
   ]
  },
  {
   "cell_type": "code",
   "execution_count": 8,
   "id": "cae86d13-d317-43fe-b4c9-4aebd525d1a9",
   "metadata": {},
   "outputs": [
    {
     "name": "stdout",
     "output_type": "stream",
     "text": [
      "Common elements: (4, 5)\n"
     ]
    }
   ],
   "source": [
    "# Define two tuples\n",
    "tuple1 = (1, 2, 3, 4, 5)\n",
    "tuple2 = (4, 5, 6, 7, 8)\n",
    "\n",
    "# Convert tuples to sets to perform intersection\n",
    "set1 = set(tuple1)\n",
    "set2 = set(tuple2)\n",
    "\n",
    "# Find the intersection of both sets\n",
    "intersection = set1.intersection(set2)\n",
    "\n",
    "# Convert the intersection set back to a tuple\n",
    "common_elements_tuple = tuple(intersection)\n",
    "\n",
    "print(\"Common elements:\", common_elements_tuple)\n"
   ]
  },
  {
   "cell_type": "markdown",
   "id": "9161883c-3abe-4f0a-8dc7-c7f8f0a535ab",
   "metadata": {},
   "source": [
    "##22.Create a code that prompts the user to enter two sets of integers separated by commas. Then, print the intersection of these two sets."
   ]
  },
  {
   "cell_type": "code",
   "execution_count": 9,
   "id": "50c4d2c7-0124-4f9f-a14b-8f45e66da629",
   "metadata": {},
   "outputs": [
    {
     "name": "stdin",
     "output_type": "stream",
     "text": [
      "Enter the first set of integers, separated by commas:  1,2,3,4,5\n",
      "Enter the second set of integers, separated by commas:  4,5,6,7,8,9\n"
     ]
    },
    {
     "name": "stdout",
     "output_type": "stream",
     "text": [
      "Intersection of the two sets: {4, 5}\n"
     ]
    }
   ],
   "source": [
    "# Prompt user for input of two sets of integers separated by commas\n",
    "input_set1 = input(\"Enter the first set of integers, separated by commas: \")\n",
    "input_set2 = input(\"Enter the second set of integers, separated by commas: \")\n",
    "\n",
    "# Convert the input strings into sets of integers\n",
    "set1 = set(map(int, input_set1.split(',')))\n",
    "set2 = set(map(int, input_set2.split(',')))\n",
    "\n",
    "# Calculate the intersection of the two sets\n",
    "intersection = set1.intersection(set2)\n",
    "\n",
    "# Print the intersection\n",
    "print(\"Intersection of the two sets:\", intersection)\n"
   ]
  },
  {
   "cell_type": "markdown",
   "id": "3fd5656e-a0a2-4116-a982-dd41223b32c7",
   "metadata": {},
   "source": [
    "##23.Write a code to concatenate two tuples. The function should take two tuples as input and return a new tuple containing elements from both input tuples."
   ]
  },
  {
   "cell_type": "code",
   "execution_count": 10,
   "id": "de183581-8235-4d80-8e45-957f838e9885",
   "metadata": {},
   "outputs": [
    {
     "name": "stdout",
     "output_type": "stream",
     "text": [
      "Concatenated Tuple: (1, 2, 3, 4, 5, 6)\n"
     ]
    }
   ],
   "source": [
    "# Define a function to concatenate two tuples\n",
    "def concatenate_tuples(tuple1, tuple2):\n",
    "    # Concatenate the tuples\n",
    "    return tuple1 + tuple2\n",
    "\n",
    "# Example tuples\n",
    "tuple1 = (1, 2, 3)\n",
    "tuple2 = (4, 5, 6)\n",
    "\n",
    "# Call the function and get the concatenated tuple\n",
    "result_tuple = concatenate_tuples(tuple1, tuple2)\n",
    "\n",
    "# Print the result\n",
    "print(\"Concatenated Tuple:\", result_tuple)"
   ]
  },
  {
   "cell_type": "markdown",
   "id": "449117c8-f5d5-42fa-ae10-4acb5dd03a9e",
   "metadata": {},
   "source": [
    "##24.Develop a code that prompts the user to input two sets of strings. Then, print the elements that are present in the first setbut not in the second set."
   ]
  },
  {
   "cell_type": "code",
   "execution_count": 11,
   "id": "0e62c6e9-fa00-4cee-aa5c-152584f96712",
   "metadata": {},
   "outputs": [
    {
     "name": "stdin",
     "output_type": "stream",
     "text": [
      "Enter the first set of strings, separated by commas:  apple,banana,cherry\n",
      "Enter the second set of strings, separated by commas:  banana,cherry,date\n"
     ]
    },
    {
     "name": "stdout",
     "output_type": "stream",
     "text": [
      "Elements in the first set but not in the second: {'apple'}\n"
     ]
    }
   ],
   "source": [
    "# Prompt the user for input of two sets of strings, separated by commas\n",
    "input_set1 = input(\"Enter the first set of strings, separated by commas: \")\n",
    "input_set2 = input(\"Enter the second set of strings, separated by commas: \")\n",
    "\n",
    "# Convert the input strings into sets\n",
    "set1 = set(input_set1.split(','))\n",
    "set2 = set(input_set2.split(','))\n",
    "\n",
    "# Calculate the difference between the two sets\n",
    "difference = set1.difference(set2)\n",
    "\n",
    "# Print the result\n",
    "print(\"Elements in the first set but not in the second:\", difference)"
   ]
  },
  {
   "cell_type": "markdown",
   "id": "3045de9e-32b4-44f7-bd43-a49d70f4ece1",
   "metadata": {},
   "source": [
    "##25.Create a code that takes a tuple and two integers as input. The function should return a newtuple containing elements from the original tuple within the specified range of indices."
   ]
  },
  {
   "cell_type": "code",
   "execution_count": 12,
   "id": "0ef4d952-f640-4d1c-865f-858f4eac8eb8",
   "metadata": {},
   "outputs": [
    {
     "name": "stdout",
     "output_type": "stream",
     "text": [
      "Original Tuple: (0, 1, 2, 3, 4, 5, 6, 7, 8, 9)\n",
      "Sliced Tuple: (2, 3, 4, 5)\n"
     ]
    }
   ],
   "source": [
    "def slice_tuple(original_tuple, start_index, end_index):\n",
    "    # Return a new tuple containing elements from the original tuple within the specified range\n",
    "    return original_tuple[start_index:end_index]\n",
    "\n",
    "# Example usage\n",
    "input_tuple = (0, 1, 2, 3, 4, 5, 6, 7, 8, 9)\n",
    "start = 2\n",
    "end = 6\n",
    "\n",
    "# Call the function and get the sliced tuple\n",
    "result_tuple = slice_tuple(input_tuple, start, end)\n",
    "\n",
    "# Print the result\n",
    "print(\"Original Tuple:\", input_tuple)\n",
    "print(\"Sliced Tuple:\", result_tuple)"
   ]
  },
  {
   "cell_type": "markdown",
   "id": "fb8a2698-7525-42c1-b2ce-7608eff7e793",
   "metadata": {},
   "source": [
    "##26.Write a code that prompts the user to input two sets of characters. Then, print the union of these two sets."
   ]
  },
  {
   "cell_type": "code",
   "execution_count": 13,
   "id": "b5255852-b3a2-4f0f-89c9-1c68ddf3998d",
   "metadata": {},
   "outputs": [
    {
     "name": "stdin",
     "output_type": "stream",
     "text": [
      "Enter the first set of characters, separated by commas (no spaces):  a,b,c\n",
      "Enter the second set of characters, separated by commas (no spaces):  c,d,e,f\n"
     ]
    },
    {
     "name": "stdout",
     "output_type": "stream",
     "text": [
      "Union of the two sets: {'d', 'e', 'f', 'c', 'a', 'b'}\n"
     ]
    }
   ],
   "source": [
    "# Prompt the user for input of two sets of characters, separated by commas\n",
    "input_set1 = input(\"Enter the first set of characters, separated by commas (no spaces): \")\n",
    "input_set2 = input(\"Enter the second set of characters, separated by commas (no spaces): \")\n",
    "\n",
    "# Convert the input strings into sets of characters\n",
    "set1 = set(input_set1.split(','))\n",
    "set2 = set(input_set2.split(','))\n",
    "\n",
    "# Calculate the union of the two sets\n",
    "union = set1.union(set2)\n",
    "\n",
    "# Print the result\n",
    "print(\"Union of the two sets:\", union)"
   ]
  },
  {
   "cell_type": "markdown",
   "id": "aa979b15-787c-49fc-a0b8-3fc69cbf4a29",
   "metadata": {},
   "source": [
    "##27.Develop a code that takes a tuple of integers as input. The function should return the maximum and minimum values from the tuple using tuple unpacking."
   ]
  },
  {
   "cell_type": "code",
   "execution_count": 14,
   "id": "b294d948-1335-434f-9095-7e68d984f0e5",
   "metadata": {},
   "outputs": [
    {
     "name": "stdout",
     "output_type": "stream",
     "text": [
      "Maximum: 70\n",
      "Minimum: -10\n"
     ]
    }
   ],
   "source": [
    "def find_max_min(input_tuple):\n",
    "    # Use max() and min() to find the maximum and minimum values of the tuple\n",
    "    max_value = max(input_tuple)\n",
    "    min_value = min(input_tuple)\n",
    "\n",
    "    # Return the results using tuple unpacking\n",
    "    return max_value, min_value\n",
    "\n",
    "# Example usage\n",
    "numbers_tuple = (10, 20, 30, 40, 50, -10, 70)\n",
    "\n",
    "# Call the function and unpack the results\n",
    "max_num, min_num = find_max_min(numbers_tuple)\n",
    "\n",
    "# Print the maximum and minimum values\n",
    "print(\"Maximum:\", max_num)\n",
    "print(\"Minimum:\", min_num)\n"
   ]
  },
  {
   "cell_type": "markdown",
   "id": "b8c4fa6c-9870-4848-8bab-89c8af1d01fb",
   "metadata": {},
   "source": [
    "##28.Create a code that defines two sets of integers. Then, print the union, intersection, and difference of these two sets."
   ]
  },
  {
   "cell_type": "code",
   "execution_count": 15,
   "id": "c13687f5-d4ec-4471-bb48-796c703f35d0",
   "metadata": {},
   "outputs": [
    {
     "name": "stdout",
     "output_type": "stream",
     "text": [
      "Set1: {1, 2, 3, 4, 5}\n",
      "Set2: {4, 5, 6, 7, 8}\n",
      "Union of Set1 and Set2: {1, 2, 3, 4, 5, 6, 7, 8}\n",
      "Intersection of Set1 and Set2: {4, 5}\n",
      "Difference (Set1 - Set2): {1, 2, 3}\n"
     ]
    }
   ],
   "source": [
    "# Define two sets of integers\n",
    "set1 = {1, 2, 3, 4, 5}\n",
    "set2 = {4, 5, 6, 7, 8}\n",
    "\n",
    "# Calculate the union of the two sets\n",
    "union_result = set1.union(set2)\n",
    "\n",
    "# Calculate the intersection of the two sets\n",
    "intersection_result = set1.intersection(set2)\n",
    "\n",
    "# Calculate the difference between the two sets (elements in set1 but not in set2)\n",
    "difference_result = set1.difference(set2)\n",
    "\n",
    "# Print the results\n",
    "print(\"Set1:\", set1)\n",
    "print(\"Set2:\", set2)\n",
    "print(\"Union of Set1 and Set2:\", union_result)\n",
    "print(\"Intersection of Set1 and Set2:\", intersection_result)\n",
    "print(\"Difference (Set1 - Set2):\", difference_result)\n"
   ]
  },
  {
   "cell_type": "markdown",
   "id": "07665352-1d6c-4095-ba96-7f921551effb",
   "metadata": {},
   "source": [
    "##29.Write a code that takes a tuple and an element as input. The function should return the count of occurrences of the given element in the tuple."
   ]
  },
  {
   "cell_type": "code",
   "execution_count": 16,
   "id": "795dc89c-3597-457a-97b1-e1c5d3fed1b0",
   "metadata": {},
   "outputs": [
    {
     "name": "stdout",
     "output_type": "stream",
     "text": [
      "The element 4 appears 4 times in the tuple.\n"
     ]
    }
   ],
   "source": [
    "def count_element_in_tuple(input_tuple, element):\n",
    "    # Return the count of the element in the tuple\n",
    "    return input_tuple.count(element)\n",
    "\n",
    "# Example usage\n",
    "sample_tuple = (1, 2, 3, 4, 1, 1, 2, 3, 4, 4, 4)\n",
    "element_to_count = 4\n",
    "\n",
    "# Call the function and print the result\n",
    "count_result = count_element_in_tuple(sample_tuple, element_to_count)\n",
    "print(f\"The element {element_to_count} appears {count_result} times in the tuple.\")\n"
   ]
  },
  {
   "cell_type": "markdown",
   "id": "722f0ceb-7f41-4bfb-9d16-33890c063188",
   "metadata": {},
   "source": [
    "##30.Develop a code that prompts the user to input two sets of strings. Then, print the symmetric diference of these two sets."
   ]
  },
  {
   "cell_type": "code",
   "execution_count": 17,
   "id": "9e720de2-149d-43dc-b511-786130ad9f08",
   "metadata": {},
   "outputs": [
    {
     "name": "stdin",
     "output_type": "stream",
     "text": [
      "Enter the first set of strings, separated by commas (no spaces):  apple,banana,cherry\n",
      "Enter the second set of strings, separated by commas (no spaces):  banana,cherry,dates\n"
     ]
    },
    {
     "name": "stdout",
     "output_type": "stream",
     "text": [
      "Symmetric difference of the two sets: {'dates', 'apple'}\n"
     ]
    }
   ],
   "source": [
    "# Prompt the user for input of two sets of strings, separated by commas\n",
    "input_set1 = input(\"Enter the first set of strings, separated by commas (no spaces): \")\n",
    "input_set2 = input(\"Enter the second set of strings, separated by commas (no spaces): \")\n",
    "\n",
    "# Convert the input strings into sets\n",
    "set1 = set(input_set1.split(','))\n",
    "set2 = set(input_set2.split(','))\n",
    "\n",
    "# Calculate the symmetric difference between the two sets\n",
    "symmetric_difference = set1.symmetric_difference(set2)\n",
    "\n",
    "# Print the result\n",
    "print(\"Symmetric difference of the two sets:\", symmetric_difference)\n"
   ]
  },
  {
   "cell_type": "markdown",
   "id": "bd9bb95f-49bc-4507-97f9-27d7f1c7df30",
   "metadata": {},
   "source": [
    " ##31.Write a code that takes a list of words as input and returns a dictionary where the keys are unique words and the values are the frequencies of those words in the input list."
   ]
  },
  {
   "cell_type": "code",
   "execution_count": 18,
   "id": "445e6641-b23f-4171-ae49-92dbd897ea81",
   "metadata": {},
   "outputs": [
    {
     "name": "stdout",
     "output_type": "stream",
     "text": [
      "Word Frequencies: {'apple': 2, 'banana': 3, 'orange': 1}\n"
     ]
    }
   ],
   "source": [
    "def word_frequencies(words):\n",
    "    frequencies = {}\n",
    "    for word in words:\n",
    "        if word in frequencies:\n",
    "            frequencies[word] += 1\n",
    "        else:\n",
    "            frequencies[word] = 1\n",
    "    return frequencies\n",
    "\n",
    "# Example usage\n",
    "word_list = [\"apple\", \"banana\", \"apple\", \"orange\", \"banana\", \"banana\"]\n",
    "# Get the frequency dictionary\n",
    "frequency_dict = word_frequencies(word_list)\n",
    "print(\"Word Frequencies:\", frequency_dict)\n"
   ]
  },
  {
   "cell_type": "markdown",
   "id": "3a391554-7911-44fd-96ba-0109e0873d27",
   "metadata": {},
   "source": [
    "##32.Write a code that takes two dictionaries as input and merges them into a single dictionary. If there are common keys, the values should be added together"
   ]
  },
  {
   "cell_type": "code",
   "execution_count": 19,
   "id": "79e8176f-f525-4fea-a100-495919f5da3e",
   "metadata": {},
   "outputs": [
    {
     "name": "stdout",
     "output_type": "stream",
     "text": [
      "Merged Dictionary: {'a': 400, 'b': 400, 'c': 300, 'd': 400}\n"
     ]
    }
   ],
   "source": [
    "def merge_dictionaries(dict1, dict2):\n",
    "    # Initialize a new dictionary to store the merged results\n",
    "    merged_dict = {}\n",
    "\n",
    "    # Add all items from the first dictionary to the merged dictionary\n",
    "    for key, value in dict1.items():\n",
    "        merged_dict[key] = value\n",
    "\n",
    "    # Add items from the second dictionary, summing values for duplicate keys\n",
    "    for key, value in dict2.items():\n",
    "        if key in merged_dict:\n",
    "            merged_dict[key] += value\n",
    "        else:\n",
    "            merged_dict[key] = value\n",
    "\n",
    "    return merged_dict\n",
    "\n",
    "# Example dictionaries\n",
    "dict1 = {'a': 100, 'b': 200, 'c': 300}\n",
    "dict2 = {'a': 300, 'b': 200, 'd': 400}\n",
    "\n",
    "# Merge the dictionaries\n",
    "result_dict = merge_dictionaries(dict1, dict2)\n",
    "\n",
    "# Print the merged dictionary\n",
    "print(\"Merged Dictionary:\", result_dict)\n"
   ]
  },
  {
   "cell_type": "markdown",
   "id": "5cfef7e6-458f-453d-9525-4c5ee52f7601",
   "metadata": {},
   "source": [
    "##33.Write a code to access a value in a nested dictionary. The function should take the dictionary and a list of  keys as input, and return the corresponding value. If any of the keys do not exist in the dictionary, the function should return None"
   ]
  },
  {
   "cell_type": "code",
   "execution_count": 20,
   "id": "0ecd3804-2b99-4dae-b5b2-528f59f3d4bf",
   "metadata": {},
   "outputs": [
    {
     "name": "stdout",
     "output_type": "stream",
     "text": [
      "The retrieved value is: value\n"
     ]
    }
   ],
   "source": [
    "def get_nested_value(nested_dict, keys):\n",
    "    # Initialize the current reference to the nested dictionary\n",
    "    current_level = nested_dict\n",
    "\n",
    "    # Iterate through the list of keys\n",
    "    for key in keys:\n",
    "        # Try to access the next level of the nested dictionary\n",
    "        if key in current_level:\n",
    "            current_level = current_level[key]\n",
    "        else:\n",
    "            # If the key is not found, return None\n",
    "            return None\n",
    "    # Return the value found at the final key level\n",
    "    return current_level\n",
    "\n",
    "# Example nested dictionary\n",
    "nested_dict = {\n",
    "    'level1': {\n",
    "        'level2': {\n",
    "            'level3': 'value'\n",
    "        }\n",
    "    }\n",
    "}\n",
    "\n",
    "# List of keys to access the nested value\n",
    "keys = ['level1', 'level2', 'level3']\n",
    "\n",
    "# Retrieve the value using the function\n",
    "value = get_nested_value(nested_dict, keys)\n",
    "\n",
    "# Print the result\n",
    "print(\"The retrieved value is:\", value)\n"
   ]
  },
  {
   "cell_type": "markdown",
   "id": "82d103bd-d6e4-4343-979c-e2909153c8fe",
   "metadata": {},
   "source": [
    "##34.Write a code that takes a dictionary as input and returns a sorted version of it based on the values. You can choose whether to sort in ascending or descending order"
   ]
  },
  {
   "cell_type": "code",
   "execution_count": 21,
   "id": "408e398c-1e1f-4aff-ab1a-d2a767486f40",
   "metadata": {},
   "outputs": [
    {
     "name": "stdout",
     "output_type": "stream",
     "text": [
      "Sorted Dictionary: {'mango': 1, 'banana': 5, 'orange': 8, 'apple': 10}\n"
     ]
    }
   ],
   "source": [
    "# Define a dictionary\n",
    "example_dict = {'apple': 10, 'banana': 5, 'orange': 8, 'mango': 1}\n",
    "\n",
    "# Use sorted() to sort the dictionary by value, but keep it simple\n",
    "sorted_tuples = sorted(example_dict.items(), key=lambda item: item[1])\n",
    "\n",
    "# Convert the list of tuples back to a dictionary\n",
    "sorted_dict = dict(sorted_tuples)\n",
    "\n",
    "# Print the sorted dictionary\n",
    "print(\"Sorted Dictionary:\", sorted_dict)\n"
   ]
  },
  {
   "cell_type": "markdown",
   "id": "73f7a2e4-3b3c-471a-bafc-60be25884f3e",
   "metadata": {},
   "source": [
    "##35. Write a code that inverts a dictionary, swapping keys and values. Ensure that the inverted dictionary correctly handles cases where multiple keys have the same value by storing the keys as a list in the inverted dictionary."
   ]
  },
  {
   "cell_type": "code",
   "execution_count": 22,
   "id": "762e532b-fcc0-487d-b40d-0f5cb5625da2",
   "metadata": {},
   "outputs": [
    {
     "name": "stdout",
     "output_type": "stream",
     "text": [
      "Inverted Dictionary: {1: ['a', 'c'], 2: ['b', 'e'], 3: ['d']}\n"
     ]
    }
   ],
   "source": [
    "def invert_dictionary(orig_dict):\n",
    "    inverted_dict = {}\n",
    "    for key, value in orig_dict.items():\n",
    "        # Check if the value already exists as a key in the inverted dictionary\n",
    "        if value in inverted_dict:\n",
    "            # If the value already exists, append the current key to the list of keys for this value\n",
    "            inverted_dict[value].append(key)\n",
    "        else:\n",
    "            # Otherwise, create a new entry with the value as key, and the original key in a list\n",
    "            inverted_dict[value] = [key]\n",
    "    return inverted_dict\n",
    "\n",
    "# Example dictionary\n",
    "example_dict = {'a': 1, 'b': 2, 'c': 1, 'd': 3, 'e': 2}\n",
    "\n",
    "# Invert the dictionary\n",
    "inverted_dict = invert_dictionary(example_dict)\n",
    "\n",
    "# Print the inverted dictionary\n",
    "print(\"Inverted Dictionary:\", inverted_dict)\n"
   ]
  },
  {
   "cell_type": "code",
   "execution_count": null,
   "id": "6a65aa1e-97f1-4484-87cd-141bad306391",
   "metadata": {},
   "outputs": [],
   "source": []
  }
 ],
 "metadata": {
  "kernelspec": {
   "display_name": "Python 3 (ipykernel)",
   "language": "python",
   "name": "python3"
  },
  "language_info": {
   "codemirror_mode": {
    "name": "ipython",
    "version": 3
   },
   "file_extension": ".py",
   "mimetype": "text/x-python",
   "name": "python",
   "nbconvert_exporter": "python",
   "pygments_lexer": "ipython3",
   "version": "3.10.8"
  }
 },
 "nbformat": 4,
 "nbformat_minor": 5
}
